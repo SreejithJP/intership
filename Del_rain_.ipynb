{
  "nbformat": 4,
  "nbformat_minor": 0,
  "metadata": {
    "colab": {
      "provenance": [],
      "authorship_tag": "ABX9TyP3JrJ/WXhQ/d8pYZjL4JvE",
      "include_colab_link": true
    },
    "kernelspec": {
      "name": "python3",
      "display_name": "Python 3"
    },
    "language_info": {
      "name": "python"
    }
  },
  "cells": [
    {
      "cell_type": "markdown",
      "metadata": {
        "id": "view-in-github",
        "colab_type": "text"
      },
      "source": [
        "<a href=\"https://colab.research.google.com/github/SreejithJP/intership/blob/main/Del_rain_.ipynb\" target=\"_parent\"><img src=\"https://colab.research.google.com/assets/colab-badge.svg\" alt=\"Open In Colab\"/></a>"
      ]
    },
    {
      "cell_type": "code",
      "execution_count": 12,
      "metadata": {
        "colab": {
          "base_uri": "https://localhost:8080/"
        },
        "id": "5kmrFnzzDyAB",
        "outputId": "33a05b44-218f-4d2e-f6ca-bc6f947cf374"
      },
      "outputs": [
        {
          "output_type": "stream",
          "name": "stdout",
          "text": [
            "Temperature         0\n",
            "Due point           0\n",
            "Humidity            0\n",
            "Wind Speed (mph)    0\n",
            "CTP                 0\n",
            "dtype: int64\n",
            "Mean Squared Error: 13390.489901028153\n",
            "Enter temperature (in °F): 52.1\n",
            "Enter dew point (in °F): 47.1\n",
            "Enter humidity (in %): 83.4\n",
            "Enter wind speed (in mph): 2\n",
            "Predicted Cloud Top Pressure: [701.45538163]\n"
          ]
        }
      ],
      "source": [
        "# Step 1: Import necessary libraries\n",
        "import pandas as pd\n",
        "from sklearn.model_selection import train_test_split\n",
        "from sklearn.ensemble import RandomForestRegressor\n",
        "from sklearn.metrics import mean_squared_error\n",
        "\n",
        "# Step 2: Load the dataset\n",
        "# Step 2: Load the dataset with specified encoding\n",
        "dataset = pd.read_csv('Del_jan_.csv', encoding='latin1')\n",
        "\n",
        "# Step 3: Data Preprocessing\n",
        "# Check for missing values\n",
        "print(dataset.isnull().sum())\n",
        "\n",
        "# If there are missing values, you can handle them by imputing or dropping them\n",
        "# For example, to impute missing values with the mean:\n",
        "dataset.fillna(dataset.mean(), inplace=True)\n",
        "\n",
        "# Step 4: Split the data into features (X) and target variable (y)\n",
        "X = dataset.drop(columns=['CTP'])  # Features\n",
        "y = dataset['CTP']  # Target variable\n",
        "\n",
        "# Step 5: Split the data into training and testing sets\n",
        "X_train, X_test, y_train, y_test = train_test_split(X, y, test_size=0.2, random_state=42)\n",
        "\n",
        "# Step 6: Model Selection and Training\n",
        "# Initialize the Random Forest Regressor with hyperparameters\n",
        "model = RandomForestRegressor(n_estimators=10000,  # Number of trees in the forest\n",
        "                               max_depth=1000,      # Maximum depth of the trees\n",
        "                               min_samples_split=100,  # Minimum number of samples required to split an internal node\n",
        "                               min_samples_leaf=10,   # Minimum number of samples required to be at a leaf node\n",
        "                               random_state=42)\n",
        "\n",
        "# Train the model\n",
        "model.fit(X_train, y_train)\n",
        "\n",
        "# Step 7: Model Evaluation\n",
        "# Make predictions on the testing set\n",
        "predictions = model.predict(X_test)\n",
        "\n",
        "# Calculate Mean Squared Error\n",
        "mse = mean_squared_error(y_test, predictions)\n",
        "print(\"Mean Squared Error:\", mse)\n",
        "\n",
        "# Step 8: Prediction (Optional)\n",
        "# If you want to make predictions on new data, you can use the trained model\n",
        "# For example:\n",
        "# Take prediction input from the user using prompts\n",
        "temperature = float(input(\"Enter temperature (in °F): \"))\n",
        "due_point = float(input(\"Enter dew point (in °F): \"))\n",
        "humidity = float(input(\"Enter humidity (in %): \"))\n",
        "wind_speed = float(input(\"Enter wind speed (in mph): \"))\n",
        "\n",
        "# Create a DataFrame with the user input\n",
        "new_data = pd.DataFrame({'Temperature': [temperature], 'Due point': [due_point], 'Humidity': [humidity], 'Wind Speed (mph)': [wind_speed]})\n",
        "\n",
        "# Make predictions using the trained model\n",
        "predicted_ctp = model.predict(new_data)\n",
        "print(\"Predicted Cloud Top Pressure:\", predicted_ctp)\n"
      ]
    }
  ]
}